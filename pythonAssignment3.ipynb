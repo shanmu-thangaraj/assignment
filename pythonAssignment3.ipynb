{
 "cells": [
  {
   "cell_type": "markdown",
   "metadata": {},
   "source": [
    "# 1.1 Question\n",
    "\n",
    "Implementaion of reduce fuction"
   ]
  },
  {
   "cell_type": "code",
   "execution_count": 14,
   "metadata": {},
   "outputs": [
    {
     "name": "stdout",
     "output_type": "stream",
     "text": [
      "120\n",
      "xyz\n",
      "40\n"
     ]
    }
   ],
   "source": [
    "def myreduce(func, mycol):\n",
    "\n",
    "    is_first_item = True\n",
    "    for item in mycol:\n",
    "        if is_first_item:\n",
    "            is_first_item = False\n",
    "            accumulator = item\n",
    "        else:\n",
    "            accumulator = func(accumulator, item)\n",
    "  \n",
    "    return accumulator\n",
    "\n",
    "\n",
    "print(myreduce(lambda x,y : x*y, {1,2,3,4,5}))\n",
    "print(myreduce(lambda x,y : x+y, (\"x\", \"y\", \"z\")))\n",
    "print(myreduce(lambda x,y : x+y, {6,7,8,9,10}))"
   ]
  },
  {
   "cell_type": "markdown",
   "metadata": {},
   "source": [
    "# 1.2 Question\n",
    "\n",
    "Implementation of filter function"
   ]
  },
  {
   "cell_type": "code",
   "execution_count": 50,
   "metadata": {},
   "outputs": [
    {
     "name": "stdout",
     "output_type": "stream",
     "text": [
      "[10, 50, 20, 60]\n",
      "['T', 'S', 'C', 'G', 'O', 'T', 'U', 'E', 'C', 'R']\n",
      "['some', 'string']\n"
     ]
    }
   ],
   "source": [
    "def myfilter(func, mycol):\n",
    "    return [item for item in mycol if func(item)]\n",
    "    \n",
    "\n",
    "print(myfilter(lambda x : x%10 == 0, {12, 50, 10, 15, 20, 23, 21, 60}))\n",
    "print(myfilter(lambda x : x.isupper(), list(\"This SentenCe Got lOT of UppEr ChaRs\")))\n",
    "print(myfilter(lambda x : type(x) == str, [2, 23, \"some\", 67, \"string\"]))"
   ]
  },
  {
   "cell_type": "markdown",
   "metadata": {},
   "source": [
    "# 2 Question\n",
    "\n",
    "List Comprehension"
   ]
  },
  {
   "cell_type": "code",
   "execution_count": 38,
   "metadata": {},
   "outputs": [
    {
     "data": {
      "text/plain": [
       "['x', 'xx', 'xxx', 'y', 'yy', 'yyy', 'z', 'zz', 'zzz']"
      ]
     },
     "execution_count": 38,
     "metadata": {},
     "output_type": "execute_result"
    }
   ],
   "source": [
    "[i*j for i in ['x', 'y', 'z']  for j in range(1,4)]"
   ]
  },
  {
   "cell_type": "code",
   "execution_count": 39,
   "metadata": {},
   "outputs": [
    {
     "data": {
      "text/plain": [
       "['x', 'y', 'z', 'xx', 'yy', 'zz', 'xxx', 'yyy', 'zzz']"
      ]
     },
     "execution_count": 39,
     "metadata": {},
     "output_type": "execute_result"
    }
   ],
   "source": [
    "[j*i for i in range(1,4)  for j in ['x', 'y', 'z']]"
   ]
  },
  {
   "cell_type": "code",
   "execution_count": 40,
   "metadata": {},
   "outputs": [
    {
     "data": {
      "text/plain": [
       "[[2], [3], [4], [3], [4], [5], [4], [5], [6]]"
      ]
     },
     "execution_count": 40,
     "metadata": {},
     "output_type": "execute_result"
    }
   ],
   "source": [
    "[[i+j] for i in range(1,4) for j in range(1,4)]"
   ]
  },
  {
   "cell_type": "code",
   "execution_count": 43,
   "metadata": {},
   "outputs": [
    {
     "data": {
      "text/plain": [
       "[[2, 3, 4, 5], [3, 4, 5, 6], [4, 5, 6, 7], [5, 6, 7, 8]]"
      ]
     },
     "execution_count": 43,
     "metadata": {},
     "output_type": "execute_result"
    }
   ],
   "source": [
    "[[i+j for i in range(1, 5)] for j in range(1, 5)]"
   ]
  },
  {
   "cell_type": "code",
   "execution_count": 46,
   "metadata": {},
   "outputs": [
    {
     "data": {
      "text/plain": [
       "[(1, 1), (2, 1), (3, 1), (1, 2), (2, 2), (3, 2), (1, 3), (2, 3), (3, 3)]"
      ]
     },
     "execution_count": 46,
     "metadata": {},
     "output_type": "execute_result"
    }
   ],
   "source": [
    "[(j, i) for i in range(1, 4) for j in range(1, 4)]"
   ]
  },
  {
   "cell_type": "code",
   "execution_count": null,
   "metadata": {},
   "outputs": [],
   "source": []
  }
 ],
 "metadata": {
  "kernelspec": {
   "display_name": "Python 3",
   "language": "python",
   "name": "python3"
  },
  "language_info": {
   "codemirror_mode": {
    "name": "ipython",
    "version": 3
   },
   "file_extension": ".py",
   "mimetype": "text/x-python",
   "name": "python",
   "nbconvert_exporter": "python",
   "pygments_lexer": "ipython3",
   "version": "3.8.3"
  }
 },
 "nbformat": 4,
 "nbformat_minor": 4
}
