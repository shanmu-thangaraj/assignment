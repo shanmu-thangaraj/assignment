{
 "cells": [
  {
   "cell_type": "markdown",
   "metadata": {},
   "source": [
    "# Question 1.1"
   ]
  },
  {
   "cell_type": "markdown",
   "metadata": {},
   "source": [
    "Area of Triangle using inheritance"
   ]
  },
  {
   "cell_type": "code",
   "execution_count": 176,
   "metadata": {},
   "outputs": [],
   "source": [
    "class Shape:\n",
    "    \n",
    "    def __init__(self, **sides):\n",
    "        self.sides = sides\n",
    "            \n",
    "    def __str__(self):\n",
    "        return \"shape with dimensions - {}\".format(self.sides)\n",
    "        "
   ]
  },
  {
   "cell_type": "code",
   "execution_count": 177,
   "metadata": {},
   "outputs": [],
   "source": [
    "class Triangle(Shape):\n",
    "    \n",
    "    def __init__(self, a, b, c):\n",
    "        super().__init__(side_a = a, side_b = b, side_c = c)\n",
    "        \n",
    "    def __perimeter__(self):\n",
    "        return self.sides['side_a'] + self.sides['side_b'] + self.sides['side_c']\n",
    "    \n",
    "    def area(self):\n",
    "        s = self.__perimeter__() / 2;\n",
    "        return (s * (s - self.sides['side_a']) * (s - self.sides['side_b']) * (s - self.sides['side_c'])) ** 0.5\n",
    "    \n",
    "    def __str__(self):\n",
    "        return \"Triangle {}\".format(super().__str__())"
   ]
  },
  {
   "cell_type": "code",
   "execution_count": 178,
   "metadata": {},
   "outputs": [
    {
     "name": "stdout",
     "output_type": "stream",
     "text": [
      "Area of Triangle shape with dimensions - {'side_a': 2, 'side_b': 4, 'side_c': 5} is 3.80 sq.units\n",
      "Area of the triangle without rounding : 3.799671038392666 sq.units\n"
     ]
    }
   ],
   "source": [
    "my_triangle = Triangle(2, 4, 5)\n",
    "\n",
    "print(\"Area of {} is {:.2f} sq.units\".format(my_triangle, my_triangle.area()))\n",
    "print(\"Area of the triangle without rounding : %s sq.units\"% str(my_triangle.area()))"
   ]
  },
  {
   "cell_type": "markdown",
   "metadata": {},
   "source": [
    "# Question 1.2, 2.1"
   ]
  },
  {
   "cell_type": "code",
   "execution_count": 179,
   "metadata": {},
   "outputs": [],
   "source": [
    "class StringCollectionManipulator:\n",
    "    \n",
    "    def __init__(self, str_collection):\n",
    "        self.__str_collection = list(map(lambda x : str(x), str_collection))\n",
    "        \n",
    "    def filter_long_words(self, max_len):\n",
    "        result = filter(lambda x : len(x) > max_len, self.__str_collection)\n",
    "        return list(result)\n",
    "    \n",
    "    def convert_to_len_of_int(self):\n",
    "        result = map(lambda x : len(x), self.__str_collection)\n",
    "        return list(result)\n",
    "    \n",
    "    def __str__(self):\n",
    "        return str(self.__str_collection)\n",
    "    "
   ]
  },
  {
   "cell_type": "markdown",
   "metadata": {},
   "source": [
    "# 1.2 Filter long words"
   ]
  },
  {
   "cell_type": "code",
   "execution_count": 135,
   "metadata": {},
   "outputs": [
    {
     "name": "stdout",
     "output_type": "stream",
     "text": [
      "['some long string', 'sh', '6523', '23.12', 'True', 'False', '(3+2j)'] filtering string > 5 ['some long string', '(3+2j)']\n",
      "\n",
      "['False', 'True', '(3+2j)', 'some long string', '23.12', '6523', 'sh'] filtering string > 4 ['False', '(3+2j)', 'some long string', '23.12']\n",
      "\n",
      "['some long string', 'sh', '6523', '23.12', 'True', 'False', '(3+2j)'] filtering string > 8 ['some long string']\n"
     ]
    }
   ],
   "source": [
    "str_manipulator1 = StringCollectionManipulator([\"some long string\", \"sh\", 6523, 23.12, True, False, 3+2j])\n",
    "print(str_manipulator1, \"filtering string > 5\", str_manipulator1.filter_long_words(5))\n",
    "\n",
    "print()\n",
    "str_manipulator2 = StringCollectionManipulator({\"some long string\", \"sh\", 6523, 23.12, True, False, 3+2j})\n",
    "print(str_manipulator2, \"filtering string > 4\", str_manipulator2.filter_long_words(4))\n",
    "\n",
    "print()\n",
    "str_manipulator3 = StringCollectionManipulator((\"some long string\", \"sh\", 6523, 23.12, True, False, 3+2j))\n",
    "print(str_manipulator3, \"filtering string > 8\", str_manipulator3.filter_long_words(8))"
   ]
  },
  {
   "cell_type": "markdown",
   "metadata": {},
   "source": [
    "## 2.1 Convert list of string to list of its length"
   ]
  },
  {
   "cell_type": "code",
   "execution_count": 138,
   "metadata": {},
   "outputs": [
    {
     "name": "stdout",
     "output_type": "stream",
     "text": [
      "Converting ['some long string', 'sh', '6523', '23.12', 'True', 'False', '(3+2j)'] to => [16, 2, 4, 5, 4, 5, 6]\n",
      "\n",
      "Converting ['False', '(3+2j)', 'shanmu', '87.1'] to => [5, 6, 6, 4]\n",
      "\n",
      "Converting ['tuple string', 'True', '1', 'dfdf', 'randomChar'] to => [12, 4, 1, 4, 10]\n"
     ]
    }
   ],
   "source": [
    "str_manipulator1 = StringCollectionManipulator([\"some long string\", \"sh\", 6523, 23.12, True, False, 3+2j])\n",
    "print(\"Converting {} to => {}\".format(str_manipulator1, str_manipulator1.convert_to_len_of_int()))\n",
    "\n",
    "print()\n",
    "str_manipulator2 = StringCollectionManipulator({\"shanmu\", 87.1, False, 3+2j})\n",
    "print(\"Converting {} to => {}\".format(str_manipulator2, str_manipulator2.convert_to_len_of_int()))\n",
    "\n",
    "print()\n",
    "str_manipulator3 = StringCollectionManipulator((\"tuple string\", True, 1, \"dfdf\", \"randomChar\"))\n",
    "print(\"Converting %s to => %s\"% (str_manipulator3, str_manipulator3.convert_to_len_of_int()))"
   ]
  },
  {
   "cell_type": "markdown",
   "metadata": {},
   "source": [
    "# Question 2.2\n",
    "\n",
    "Check if a character is vowel or not"
   ]
  },
  {
   "cell_type": "code",
   "execution_count": 171,
   "metadata": {},
   "outputs": [],
   "source": [
    "def isvowel(char): \n",
    "    if len(char) > 1:\n",
    "        raise Exception(\"Excepted character but found '{}'\".format(str(char)))\n",
    "    \n",
    "    if char.lower() in ['a', 'e', 'i', 'o', 'u']:\n",
    "        return True\n",
    "    \n",
    "    return False"
   ]
  },
  {
   "cell_type": "code",
   "execution_count": 172,
   "metadata": {},
   "outputs": [
    {
     "name": "stdout",
     "output_type": "stream",
     "text": [
      "'a' is vowel : True\n",
      "'b' is vowel : False\n",
      "'u' is vowel : True\n",
      "'E' is vowel : True\n",
      "'2' is vowel : False\n",
      "'Z' is vowel : False\n"
     ]
    }
   ],
   "source": [
    "print(\"'a' is vowel :\", isvowel('a'))\n",
    "print(\"'b' is vowel :\", isvowel('b'))\n",
    "print(\"'u' is vowel :\", isvowel('u'))\n",
    "print(\"'E' is vowel :\", isvowel('E'))\n",
    "print(\"'2' is vowel :\", isvowel('2'))\n",
    "print(\"'Z' is vowel :\", isvowel('Z'))"
   ]
  },
  {
   "cell_type": "code",
   "execution_count": 173,
   "metadata": {},
   "outputs": [
    {
     "ename": "Exception",
     "evalue": "Excepted character but found 'aei'",
     "output_type": "error",
     "traceback": [
      "\u001b[1;31m---------------------------------------------------------------------------\u001b[0m",
      "\u001b[1;31mException\u001b[0m                                 Traceback (most recent call last)",
      "\u001b[1;32m<ipython-input-173-993f28aaf092>\u001b[0m in \u001b[0;36m<module>\u001b[1;34m\u001b[0m\n\u001b[1;32m----> 1\u001b[1;33m \u001b[0mprint\u001b[0m\u001b[1;33m(\u001b[0m\u001b[1;34m\"'aei' is vowel :\"\u001b[0m\u001b[1;33m,\u001b[0m \u001b[0misvowel\u001b[0m\u001b[1;33m(\u001b[0m\u001b[1;34m\"aei\"\u001b[0m\u001b[1;33m)\u001b[0m\u001b[1;33m)\u001b[0m\u001b[1;33m\u001b[0m\u001b[1;33m\u001b[0m\u001b[0m\n\u001b[0m",
      "\u001b[1;32m<ipython-input-171-6355913b73c3>\u001b[0m in \u001b[0;36misvowel\u001b[1;34m(char)\u001b[0m\n\u001b[0;32m      1\u001b[0m \u001b[1;32mdef\u001b[0m \u001b[0misvowel\u001b[0m\u001b[1;33m(\u001b[0m\u001b[0mchar\u001b[0m\u001b[1;33m)\u001b[0m\u001b[1;33m:\u001b[0m\u001b[1;33m\u001b[0m\u001b[1;33m\u001b[0m\u001b[0m\n\u001b[0;32m      2\u001b[0m     \u001b[1;32mif\u001b[0m \u001b[0mlen\u001b[0m\u001b[1;33m(\u001b[0m\u001b[0mchar\u001b[0m\u001b[1;33m)\u001b[0m \u001b[1;33m>\u001b[0m \u001b[1;36m1\u001b[0m\u001b[1;33m:\u001b[0m\u001b[1;33m\u001b[0m\u001b[1;33m\u001b[0m\u001b[0m\n\u001b[1;32m----> 3\u001b[1;33m         \u001b[1;32mraise\u001b[0m \u001b[0mException\u001b[0m\u001b[1;33m(\u001b[0m\u001b[1;34m\"Excepted character but found '{}'\"\u001b[0m\u001b[1;33m.\u001b[0m\u001b[0mformat\u001b[0m\u001b[1;33m(\u001b[0m\u001b[0mstr\u001b[0m\u001b[1;33m(\u001b[0m\u001b[0mchar\u001b[0m\u001b[1;33m)\u001b[0m\u001b[1;33m)\u001b[0m\u001b[1;33m)\u001b[0m\u001b[1;33m\u001b[0m\u001b[1;33m\u001b[0m\u001b[0m\n\u001b[0m\u001b[0;32m      4\u001b[0m \u001b[1;33m\u001b[0m\u001b[0m\n\u001b[0;32m      5\u001b[0m     \u001b[1;32mif\u001b[0m \u001b[0mchar\u001b[0m\u001b[1;33m.\u001b[0m\u001b[0mlower\u001b[0m\u001b[1;33m(\u001b[0m\u001b[1;33m)\u001b[0m \u001b[1;32min\u001b[0m \u001b[1;33m[\u001b[0m\u001b[1;34m'a'\u001b[0m\u001b[1;33m,\u001b[0m \u001b[1;34m'e'\u001b[0m\u001b[1;33m,\u001b[0m \u001b[1;34m'i'\u001b[0m\u001b[1;33m,\u001b[0m \u001b[1;34m'o'\u001b[0m\u001b[1;33m,\u001b[0m \u001b[1;34m'u'\u001b[0m\u001b[1;33m]\u001b[0m\u001b[1;33m:\u001b[0m\u001b[1;33m\u001b[0m\u001b[1;33m\u001b[0m\u001b[0m\n",
      "\u001b[1;31mException\u001b[0m: Excepted character but found 'aei'"
     ]
    }
   ],
   "source": [
    "print(\"'aei' is vowel :\", isvowel(\"aei\"))"
   ]
  },
  {
   "cell_type": "code",
   "execution_count": 174,
   "metadata": {},
   "outputs": [
    {
     "ename": "Exception",
     "evalue": "Excepted character but found '['a', 'e', 'i']'",
     "output_type": "error",
     "traceback": [
      "\u001b[1;31m---------------------------------------------------------------------------\u001b[0m",
      "\u001b[1;31mException\u001b[0m                                 Traceback (most recent call last)",
      "\u001b[1;32m<ipython-input-174-7ef72285e3b6>\u001b[0m in \u001b[0;36m<module>\u001b[1;34m\u001b[0m\n\u001b[1;32m----> 1\u001b[1;33m \u001b[0mprint\u001b[0m\u001b[1;33m(\u001b[0m\u001b[1;34m\"['a', 'e', 'i']' is vowel :\"\u001b[0m\u001b[1;33m,\u001b[0m \u001b[0misvowel\u001b[0m\u001b[1;33m(\u001b[0m\u001b[1;34m\"['a', 'e', 'i']\"\u001b[0m\u001b[1;33m)\u001b[0m\u001b[1;33m)\u001b[0m\u001b[1;33m\u001b[0m\u001b[1;33m\u001b[0m\u001b[0m\n\u001b[0m",
      "\u001b[1;32m<ipython-input-171-6355913b73c3>\u001b[0m in \u001b[0;36misvowel\u001b[1;34m(char)\u001b[0m\n\u001b[0;32m      1\u001b[0m \u001b[1;32mdef\u001b[0m \u001b[0misvowel\u001b[0m\u001b[1;33m(\u001b[0m\u001b[0mchar\u001b[0m\u001b[1;33m)\u001b[0m\u001b[1;33m:\u001b[0m\u001b[1;33m\u001b[0m\u001b[1;33m\u001b[0m\u001b[0m\n\u001b[0;32m      2\u001b[0m     \u001b[1;32mif\u001b[0m \u001b[0mlen\u001b[0m\u001b[1;33m(\u001b[0m\u001b[0mchar\u001b[0m\u001b[1;33m)\u001b[0m \u001b[1;33m>\u001b[0m \u001b[1;36m1\u001b[0m\u001b[1;33m:\u001b[0m\u001b[1;33m\u001b[0m\u001b[1;33m\u001b[0m\u001b[0m\n\u001b[1;32m----> 3\u001b[1;33m         \u001b[1;32mraise\u001b[0m \u001b[0mException\u001b[0m\u001b[1;33m(\u001b[0m\u001b[1;34m\"Excepted character but found '{}'\"\u001b[0m\u001b[1;33m.\u001b[0m\u001b[0mformat\u001b[0m\u001b[1;33m(\u001b[0m\u001b[0mstr\u001b[0m\u001b[1;33m(\u001b[0m\u001b[0mchar\u001b[0m\u001b[1;33m)\u001b[0m\u001b[1;33m)\u001b[0m\u001b[1;33m)\u001b[0m\u001b[1;33m\u001b[0m\u001b[1;33m\u001b[0m\u001b[0m\n\u001b[0m\u001b[0;32m      4\u001b[0m \u001b[1;33m\u001b[0m\u001b[0m\n\u001b[0;32m      5\u001b[0m     \u001b[1;32mif\u001b[0m \u001b[0mchar\u001b[0m\u001b[1;33m.\u001b[0m\u001b[0mlower\u001b[0m\u001b[1;33m(\u001b[0m\u001b[1;33m)\u001b[0m \u001b[1;32min\u001b[0m \u001b[1;33m[\u001b[0m\u001b[1;34m'a'\u001b[0m\u001b[1;33m,\u001b[0m \u001b[1;34m'e'\u001b[0m\u001b[1;33m,\u001b[0m \u001b[1;34m'i'\u001b[0m\u001b[1;33m,\u001b[0m \u001b[1;34m'o'\u001b[0m\u001b[1;33m,\u001b[0m \u001b[1;34m'u'\u001b[0m\u001b[1;33m]\u001b[0m\u001b[1;33m:\u001b[0m\u001b[1;33m\u001b[0m\u001b[1;33m\u001b[0m\u001b[0m\n",
      "\u001b[1;31mException\u001b[0m: Excepted character but found '['a', 'e', 'i']'"
     ]
    }
   ],
   "source": [
    "print(\"['a', 'e', 'i']' is vowel :\", isvowel(\"['a', 'e', 'i']\"))"
   ]
  },
  {
   "cell_type": "code",
   "execution_count": 175,
   "metadata": {},
   "outputs": [
    {
     "ename": "Exception",
     "evalue": "Excepted character but found '['i']'",
     "output_type": "error",
     "traceback": [
      "\u001b[1;31m---------------------------------------------------------------------------\u001b[0m",
      "\u001b[1;31mException\u001b[0m                                 Traceback (most recent call last)",
      "\u001b[1;32m<ipython-input-175-f5e229fbe349>\u001b[0m in \u001b[0;36m<module>\u001b[1;34m\u001b[0m\n\u001b[1;32m----> 1\u001b[1;33m \u001b[0mprint\u001b[0m\u001b[1;33m(\u001b[0m\u001b[1;34m\"['i']' is vowel :\"\u001b[0m\u001b[1;33m,\u001b[0m \u001b[0misvowel\u001b[0m\u001b[1;33m(\u001b[0m\u001b[1;34m\"['i']\"\u001b[0m\u001b[1;33m)\u001b[0m\u001b[1;33m)\u001b[0m\u001b[1;33m\u001b[0m\u001b[1;33m\u001b[0m\u001b[0m\n\u001b[0m",
      "\u001b[1;32m<ipython-input-171-6355913b73c3>\u001b[0m in \u001b[0;36misvowel\u001b[1;34m(char)\u001b[0m\n\u001b[0;32m      1\u001b[0m \u001b[1;32mdef\u001b[0m \u001b[0misvowel\u001b[0m\u001b[1;33m(\u001b[0m\u001b[0mchar\u001b[0m\u001b[1;33m)\u001b[0m\u001b[1;33m:\u001b[0m\u001b[1;33m\u001b[0m\u001b[1;33m\u001b[0m\u001b[0m\n\u001b[0;32m      2\u001b[0m     \u001b[1;32mif\u001b[0m \u001b[0mlen\u001b[0m\u001b[1;33m(\u001b[0m\u001b[0mchar\u001b[0m\u001b[1;33m)\u001b[0m \u001b[1;33m>\u001b[0m \u001b[1;36m1\u001b[0m\u001b[1;33m:\u001b[0m\u001b[1;33m\u001b[0m\u001b[1;33m\u001b[0m\u001b[0m\n\u001b[1;32m----> 3\u001b[1;33m         \u001b[1;32mraise\u001b[0m \u001b[0mException\u001b[0m\u001b[1;33m(\u001b[0m\u001b[1;34m\"Excepted character but found '{}'\"\u001b[0m\u001b[1;33m.\u001b[0m\u001b[0mformat\u001b[0m\u001b[1;33m(\u001b[0m\u001b[0mstr\u001b[0m\u001b[1;33m(\u001b[0m\u001b[0mchar\u001b[0m\u001b[1;33m)\u001b[0m\u001b[1;33m)\u001b[0m\u001b[1;33m)\u001b[0m\u001b[1;33m\u001b[0m\u001b[1;33m\u001b[0m\u001b[0m\n\u001b[0m\u001b[0;32m      4\u001b[0m \u001b[1;33m\u001b[0m\u001b[0m\n\u001b[0;32m      5\u001b[0m     \u001b[1;32mif\u001b[0m \u001b[0mchar\u001b[0m\u001b[1;33m.\u001b[0m\u001b[0mlower\u001b[0m\u001b[1;33m(\u001b[0m\u001b[1;33m)\u001b[0m \u001b[1;32min\u001b[0m \u001b[1;33m[\u001b[0m\u001b[1;34m'a'\u001b[0m\u001b[1;33m,\u001b[0m \u001b[1;34m'e'\u001b[0m\u001b[1;33m,\u001b[0m \u001b[1;34m'i'\u001b[0m\u001b[1;33m,\u001b[0m \u001b[1;34m'o'\u001b[0m\u001b[1;33m,\u001b[0m \u001b[1;34m'u'\u001b[0m\u001b[1;33m]\u001b[0m\u001b[1;33m:\u001b[0m\u001b[1;33m\u001b[0m\u001b[1;33m\u001b[0m\u001b[0m\n",
      "\u001b[1;31mException\u001b[0m: Excepted character but found '['i']'"
     ]
    }
   ],
   "source": [
    "print(\"['i']' is vowel :\", isvowel(\"['i']\"))"
   ]
  },
  {
   "cell_type": "code",
   "execution_count": null,
   "metadata": {},
   "outputs": [],
   "source": []
  }
 ],
 "metadata": {
  "kernelspec": {
   "display_name": "Python 3",
   "language": "python",
   "name": "python3"
  },
  "language_info": {
   "codemirror_mode": {
    "name": "ipython",
    "version": 3
   },
   "file_extension": ".py",
   "mimetype": "text/x-python",
   "name": "python",
   "nbconvert_exporter": "python",
   "pygments_lexer": "ipython3",
   "version": "3.8.3"
  }
 },
 "nbformat": 4,
 "nbformat_minor": 4
}
