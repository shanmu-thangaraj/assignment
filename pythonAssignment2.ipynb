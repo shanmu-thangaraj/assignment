{
 "cells": [
  {
   "cell_type": "markdown",
   "metadata": {},
   "source": [
    "# Question 1"
   ]
  },
  {
   "cell_type": "markdown",
   "metadata": {},
   "source": [
    "Pattern Generation using nested for-loop"
   ]
  },
  {
   "cell_type": "code",
   "execution_count": 8,
   "metadata": {},
   "outputs": [
    {
     "name": "stdout",
     "output_type": "stream",
     "text": [
      "\n",
      "*\n",
      "**\n",
      "***\n",
      "****\n",
      "*****\n",
      "****\n",
      "***\n",
      "**\n",
      "*\n"
     ]
    }
   ],
   "source": [
    "def pattern_generator (number):\n",
    "    for i in range(number):\n",
    "        pattern = ''\n",
    "        for j in range(i):\n",
    "            pattern += '*'\n",
    "        else:\n",
    "            print(pattern)\n",
    "            \n",
    "    for i in range(number, 0, -1):\n",
    "        pattern = ''\n",
    "        for j in range(i):\n",
    "            pattern += '*'\n",
    "        else:\n",
    "            print(pattern)\n",
    "     \n",
    "pattern_generator(5)"
   ]
  },
  {
   "cell_type": "markdown",
   "metadata": {},
   "source": [
    "Pattern Generation using list comphrension and string manipulation"
   ]
  },
  {
   "cell_type": "code",
   "execution_count": 5,
   "metadata": {},
   "outputs": [
    {
     "name": "stdout",
     "output_type": "stream",
     "text": [
      "\n",
      "*\n",
      "**\n",
      "***\n",
      "****\n",
      "*****\n",
      "****\n",
      "***\n",
      "**\n",
      "*\n",
      "\n"
     ]
    }
   ],
   "source": [
    "def pattern_generator (number):\n",
    "    upperPattern = \"\\n\".join(['*' * i for i in range(number)])\n",
    "    middlePattern = \"*\" * number\n",
    "    lowerPattern = upperPattern[::-1]\n",
    "    print(upperPattern, middlePattern, lowerPattern, sep = \"\\n\")\n",
    "    \n",
    "pattern_generator(5)"
   ]
  },
  {
   "cell_type": "markdown",
   "metadata": {},
   "source": [
    "# Question 2\n",
    "\n",
    "Reverse word from user input"
   ]
  },
  {
   "cell_type": "code",
   "execution_count": 11,
   "metadata": {},
   "outputs": [
    {
     "name": "stdout",
     "output_type": "stream",
     "text": [
      "Enter input string : ineuron\n",
      "Reversed string norueni\n"
     ]
    }
   ],
   "source": [
    "inputStr = input(\"Enter input string : \")\n",
    "print(\"Reversed string {}\".format(inputStr[::-1]))"
   ]
  },
  {
   "cell_type": "code",
   "execution_count": null,
   "metadata": {},
   "outputs": [],
   "source": []
  }
 ],
 "metadata": {
  "kernelspec": {
   "display_name": "Python 3",
   "language": "python",
   "name": "python3"
  },
  "language_info": {
   "codemirror_mode": {
    "name": "ipython",
    "version": 3
   },
   "file_extension": ".py",
   "mimetype": "text/x-python",
   "name": "python",
   "nbconvert_exporter": "python",
   "pygments_lexer": "ipython3",
   "version": "3.8.3"
  }
 },
 "nbformat": 4,
 "nbformat_minor": 4
}
