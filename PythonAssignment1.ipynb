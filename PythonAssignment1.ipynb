{
 "cells": [
  {
   "cell_type": "markdown",
   "metadata": {},
   "source": [
    "# Question 1\n",
    "\n",
    "Print all number that are divisible by 7, but not by 5 between 2000 and 3200 in a single row, separated by comma"
   ]
  },
  {
   "cell_type": "code",
   "execution_count": 20,
   "metadata": {
    "scrolled": true
   },
   "outputs": [
    {
     "name": "stdout",
     "output_type": "stream",
     "text": [
      "2002,2009,2016,2023,2037,2044,2051,2058,2072,2079,2086,2093,2107,2114,2121,2128,2142,2149,2156,2163,2177,2184,2191,2198,2212,2219,2226,2233,2247,2254,2261,2268,2282,2289,2296,2303,2317,2324,2331,2338,2352,2359,2366,2373,2387,2394,2401,2408,2422,2429,2436,2443,2457,2464,2471,2478,2492,2499,2506,2513,2527,2534,2541,2548,2562,2569,2576,2583,2597,2604,2611,2618,2632,2639,2646,2653,2667,2674,2681,2688,2702,2709,2716,2723,2737,2744,2751,2758,2772,2779,2786,2793,2807,2814,2821,2828,2842,2849,2856,2863,2877,2884,2891,2898,2912,2919,2926,2933,2947,2954,2961,2968,2982,2989,2996,3003,3017,3024,3031,3038,3052,3059,3066,3073,3087,3094,3101,3108,3122,3129,3136,3143,3157,3164,3171,3178,3192,3199\n"
     ]
    }
   ],
   "source": [
    "startRange = 2000\n",
    "endRange = 3200 + 1 #Adding one to include 3200\n",
    "\n",
    "#Find the first number that is divisible by 7\n",
    "while startRange % 7 != 0:\n",
    "    startRange += 1\n",
    "    \n",
    "#Initialise resultant string\n",
    "divisibleBy7 = \"\"\n",
    "\n",
    "#loop from start range to end range stepping by 7 to get numbers divisible by 7\n",
    "for number in range(startRange, endRange, 7):\n",
    "    #Check if number is divisibl by 5\n",
    "    if number % 5 != 0:\n",
    "        #if not divisible by 5 appended to the resultant string with ','\n",
    "        divisibleBy7 = divisibleBy7 + str(number) + \",\"\n",
    "\n",
    "#display resultant string ignoring last 2 character to avaoid unwanted ',' at the end\n",
    "print(divisibleBy7[:-1])"
   ]
  },
  {
   "cell_type": "markdown",
   "metadata": {},
   "source": [
    "# Question 2\n",
    "\n",
    "Get first name and last name and print them in reverse order with space in the middle"
   ]
  },
  {
   "cell_type": "code",
   "execution_count": 16,
   "metadata": {},
   "outputs": [
    {
     "name": "stdout",
     "output_type": "stream",
     "text": [
      "Enter first name : Pavith\n",
      "Enter last name : Shanmu\n",
      "Htivap Umnahs\n"
     ]
    }
   ],
   "source": [
    "firstName = input(\"Enter first name : \")\n",
    "lastName = input(\"Enter last name : \")\n",
    "\n",
    "reversedFirstName = firstName[-1].upper() + firstName[-2:0:-1] + firstName[0].lower()\n",
    "reversedLastName = lastName[-1].upper() + lastName[-2:0:-1] + lastName[0].lower()\n",
    "\n",
    "print(reversedFirstName, reversedLastName, sep=' ')"
   ]
  },
  {
   "cell_type": "markdown",
   "metadata": {},
   "source": [
    "# Question 3\n",
    "\n",
    "Find volume of a sphere with 12 cm as diameter"
   ]
  },
  {
   "cell_type": "code",
   "execution_count": 18,
   "metadata": {
    "scrolled": true
   },
   "outputs": [
    {
     "name": "stdout",
     "output_type": "stream",
     "text": [
      "Given Diameter of the sphere          D = 12 cm\n",
      "Radius of the spere                   r = D/2 = 12/2 = 6.0 cm\n",
      "Formula to find volume of sphere      V = 4/3 π r^3 cm^3 \n",
      "Volume of sphere with diameter 12 cm  V = 904.7786842338603 cm^3 \n"
     ]
    }
   ],
   "source": [
    "import math\n",
    "\n",
    "diameter = 12\n",
    "radius = diameter / 2\n",
    "\n",
    "print(\"Given Diameter of the sphere          D\", diameter, sep = \" = \", end = \" cm\\n\")\n",
    "print(\"Radius of the spere                   r\", \"D/2\", str(diameter) + \"/2\", radius, sep = \" = \", end = \" cm\\n\")\n",
    "print(\"Formula to find volume of sphere      V\", \"4/3 π r^3\", sep = \" = \", end = \" cm^3 \\n\")\n",
    "print(\"Volume of sphere with diameter 12 cm  V\", 4 / 3 * math.pi * pow(6, 3), sep = \" = \", end = \" cm^3 \\n\")\n",
    "\n"
   ]
  },
  {
   "cell_type": "code",
   "execution_count": null,
   "metadata": {},
   "outputs": [],
   "source": []
  }
 ],
 "metadata": {
  "kernelspec": {
   "display_name": "Python 3",
   "language": "python",
   "name": "python3"
  },
  "language_info": {
   "codemirror_mode": {
    "name": "ipython",
    "version": 3
   },
   "file_extension": ".py",
   "mimetype": "text/x-python",
   "name": "python",
   "nbconvert_exporter": "python",
   "pygments_lexer": "ipython3",
   "version": "3.8.3"
  }
 },
 "nbformat": 4,
 "nbformat_minor": 4
}
